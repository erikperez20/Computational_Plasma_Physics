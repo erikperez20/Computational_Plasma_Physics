{
 "cells": [
  {
   "cell_type": "code",
   "execution_count": 1,
   "metadata": {},
   "outputs": [],
   "source": [
    "import sys\n",
    "\n",
    "sys.path.append('C:\\\\Users\\\\erik_\\\\Documents\\\\erik documents\\\\Programas\\\\PlasmaSimulations\\\\src')\n",
    "# sys.path.append('..\\\\PlasmaSimulations\\\\src') # replace .. by the concrete path to the PlasmaSimulations folder\n",
    "\n",
    "%matplotlib inline\n",
    "import numpy as np\n",
    "import matplotlib.pyplot as plt\n",
    "from sklearn.metrics import mean_squared_error\n",
    "import os\n",
    "\n",
    "import AdvectionSolvers"
   ]
  },
  {
   "cell_type": "markdown",
   "metadata": {},
   "source": [
    "# TECHNISCHE UNIVERSITÄT MÜNCHEN - Sonnendrücker & Possanner Lectures"
   ]
  },
  {
   "cell_type": "markdown",
   "metadata": {},
   "source": [
    "## Exercise sheet Nº2"
   ]
  },
  {
   "cell_type": "markdown",
   "metadata": {},
   "source": [
    "### 1. Constant-coefficient Advection"
   ]
  },
  {
   "cell_type": "markdown",
   "metadata": {},
   "source": [
    "For $x\\in[0,L]$ and $t\\in[0,T]$ consider:\n",
    "\n",
    "$$\\frac{\\partial}{\\partial t}u(t,x) + a \\frac{\\partial}{\\partial x}u(t,x) = 0, \\space \\space \\space \\space \\space \\space a\\in Reals \\\\\n",
    "u(0,x)=u_0(x)=\\frac{1}{(2\\pi\\sigma^2)^{1/2}}\\exp\\bigg(-\\frac{(x-L/2)^2}{2\\sigma^2}\\bigg)$$\n",
    "\n",
    "- Notation: $u_j^n:=u(t_n,x_j)$\n",
    "- Parameters: $\\Delta t$ and $h$\n",
    "- Input Values: L, T, a and $\\sigma$\n",
    "- Boundary Conditions: $u(t,x)$ is L-periodic $\\longrightarrow u(t,x)=u(t,x+L)$  \n"
   ]
  },
  {
   "cell_type": "markdown",
   "metadata": {},
   "source": [
    "#### a) Explicit Euler upwind scheme"
   ]
  },
  {
   "cell_type": "markdown",
   "metadata": {},
   "source": [
    "$$ u_j^{n+1} = u_j^{n} - \\frac{\\Delta t}{h} \\Big[ a_-(u_{j+1}^{n} - u_j^n) + a_+ (u_j^n - u_{j-1}^n) \\Big] \\\\\n",
    "a_-=min(0,a), \\space \\space \\space \\space \\space a_+=max(0,a)$$"
   ]
  },
  {
   "cell_type": "code",
   "execution_count": 2,
   "metadata": {},
   "outputs": [
    {
     "name": "stdout",
     "output_type": "stream",
     "text": [
      "Courant–Friedrichs–Lewy parameter:  1.0\n"
     ]
    }
   ],
   "source": [
    "L_max = 1.0\n",
    "T_max = 1.5\n",
    "a_val = 2.0\n",
    "sig = 0.05\n",
    "N_size = 200\n",
    "M_size = 600\n",
    "\n",
    "dt = T_max/M_size\n",
    "dx = L_max/N_size\n",
    "\n",
    "CFL_parameter = dt*a_val/dx\n",
    "print('Courant–Friedrichs–Lewy parameter: ',CFL_parameter)"
   ]
  },
  {
   "cell_type": "markdown",
   "metadata": {},
   "source": [
    "Initial Condition:\n",
    "$$ u_0(x)=\\frac{1}{(2\\pi\\sigma^2)^{1/2}}\\exp\\bigg(-\\frac{(x-L/2)^2}{2\\sigma^2}\\bigg) $$"
   ]
  },
  {
   "cell_type": "code",
   "execution_count": 3,
   "metadata": {},
   "outputs": [],
   "source": [
    "init_condition1 = lambda x: 1.0/(2.0*np.pi*(sig**2))**(1/2) * np.exp(- ((x-L_max/2)**2)/(2*sig**2))"
   ]
  },
  {
   "cell_type": "code",
   "execution_count": 4,
   "metadata": {},
   "outputs": [],
   "source": [
    "obj1 = AdvectionSolvers.Euler_Upwind_1D(L_max,T_max,a_val,init_condition1,N_size,M_size,\"Solution_Euler\")\n",
    "obj1.run()"
   ]
  },
  {
   "cell_type": "code",
   "execution_count": 5,
   "metadata": {},
   "outputs": [
    {
     "name": "stdout",
     "output_type": "stream",
     "text": [
      "(601, 201)\n"
     ]
    }
   ],
   "source": [
    "y1 = np.loadtxt(\"Solution_Euler.txt\").reshape(M_size+1,N_size+1)\n",
    "print(y1.shape)"
   ]
  },
  {
   "cell_type": "code",
   "execution_count": 6,
   "metadata": {},
   "outputs": [
    {
     "data": {
      "image/png": "[encoded data removed]",
      "text/plain": [
       "<Figure size 720x576 with 1 Axes>"
      ]
     },
     "metadata": {
      "needs_background": "light"
     },
     "output_type": "display_data"
    }
   ],
   "source": [
    "x = obj1.grid_points(0.0,L_max,L_max/N_size)\n",
    "time_grid = obj1.grid_points(0.0,T_max,T_max/M_size)\n",
    "\n",
    "plt.figure(figsize=(10,8))\n",
    "indexx = 300\n",
    "plt.plot(x,y1[indexx],linewidth = 1, c = 'b',label = f'Time {time_grid[indexx]}')\n",
    "plt.title(f'Euler Upwind Scheme with CFL = {CFL_parameter}',fontsize = 15)\n",
    "plt.legend()\n",
    "plt.show()"
   ]
  },
  {
   "cell_type": "code",
   "execution_count": 7,
   "metadata": {},
   "outputs": [
    {
     "name": "stdout",
     "output_type": "stream",
     "text": [
      "dx:  0.005\n",
      "dt values:  [0.0025     0.00230769 0.00214286 0.002      0.001875   0.00176471\n",
      " 0.00166667 0.00157895 0.0015    ]\n",
      "CFL values:  [1.         0.92307692 0.85714286 0.8        0.75       0.70588235\n",
      " 0.66666667 0.63157895 0.6       ]\n"
     ]
    }
   ],
   "source": [
    "N_sizes = 200\n",
    "M_sizes = np.array([600,650,700,750,800,850,900,950,1000])\n",
    "\n",
    "dts = T_max/M_sizes\n",
    "dxs = L_max/N_sizes\n",
    "\n",
    "print('dx: ', dx)\n",
    "print('dt values: ',dts)\n",
    "\n",
    "CFL_parameters = dts*a_val/dxs\n",
    "print('CFL values: ',CFL_parameters)"
   ]
  },
  {
   "cell_type": "code",
   "execution_count": 8,
   "metadata": {},
   "outputs": [],
   "source": [
    "''' Make directory function '''\n",
    "def make_dir(data_dir):\n",
    "    if not os.path.exists(data_dir):\n",
    "        os.makedirs(data_dir)"
   ]
  },
  {
   "cell_type": "markdown",
   "metadata": {},
   "source": [
    "Run tests for different step sizes:"
   ]
  },
  {
   "cell_type": "code",
   "execution_count": 9,
   "metadata": {},
   "outputs": [],
   "source": [
    "File_Euler = 'Euler_Solutions1D' # Binder name to store Euler Schemes Solutions\n",
    "make_dir(File_Euler)"
   ]
  },
  {
   "cell_type": "code",
   "execution_count": 10,
   "metadata": {},
   "outputs": [],
   "source": [
    "for idx,M_vals in enumerate(M_sizes):\n",
    "    obj_euler = AdvectionSolvers.Euler_Upwind_1D(L_max,T_max,a_val,init_condition1,N_sizes,M_vals,os.path.join(File_Euler,'%.2f'%(CFL_parameters[idx])))\n",
    "    obj_euler.run()"
   ]
  },
  {
   "cell_type": "markdown",
   "metadata": {},
   "source": [
    "- Conservation of Total Mass:"
   ]
  },
  {
   "cell_type": "code",
   "execution_count": 11,
   "metadata": {},
   "outputs": [],
   "source": [
    "masses = []\n",
    "max_vals = []\n",
    "for idx,CFL_value in enumerate(CFL_parameters):\n",
    "    name = '%.2f'%(CFL_value) + '.txt'\n",
    "\n",
    "    y_sol = np.loadtxt(os.path.join(File_Euler,name)).reshape(M_sizes[idx]+1,N_sizes+1)\n",
    "\n",
    "    areas = []\n",
    "    maxs = []\n",
    "    for row in y_sol:\n",
    "        \n",
    "        areas.append(np.trapz(y = row, dx = dxs))\n",
    "        maxs.append(max(row))\n",
    "        \n",
    "    masses.append(areas)\n",
    "    max_vals.append(maxs)"
   ]
  },
  {
   "cell_type": "code",
   "execution_count": 12,
   "metadata": {},
   "outputs": [
    {
     "data": {
      "text/plain": [
       "1001"
      ]
     },
     "execution_count": 12,
     "metadata": {},
     "output_type": "execute_result"
    }
   ],
   "source": [
    "len(masses[8])"
   ]
  },
  {
   "cell_type": "code",
   "execution_count": 13,
   "metadata": {},
   "outputs": [
    {
     "data": {
      "image/png": "[encoded data removed]",
      "text/plain": [
       "<Figure size 720x576 with 1 Axes>"
      ]
     },
     "metadata": {
      "needs_background": "light"
     },
     "output_type": "display_data"
    }
   ],
   "source": [
    "t_grids = [np.arange(0.0,T_max+dt_val,dt_val) for dt_val in dts]\n",
    "\n",
    "plt.figure(figsize=(10,8))\n",
    "for t_val,mass,CFL_p in zip(t_grids,masses,CFL_parameters): \n",
    "    if len(t_val) == len(mass):\n",
    "        plt.plot(t_val,mass,linewidth=1,label='%.3f'%(CFL_p))\n",
    "    else:\n",
    "        t_val = list(t_val)\n",
    "        t_val.pop(-1)\n",
    "        plt.plot(t_val,mass,linewidth=1,label='%.3f'%(CFL_p))\n",
    "plt.title('Mass vs time')\n",
    "plt.xlabel('Time')\n",
    "plt.ylabel('Mass')\n",
    "plt.legend()\n",
    "plt.show()"
   ]
  },
  {
   "cell_type": "markdown",
   "metadata": {},
   "source": [
    "- Maximum of u:"
   ]
  },
  {
   "cell_type": "code",
   "execution_count": 14,
   "metadata": {},
   "outputs": [
    {
     "data": {
      "image/png": "[encoded data removed]",
      "text/plain": [
       "<Figure size 720x576 with 1 Axes>"
      ]
     },
     "metadata": {
      "needs_background": "light"
     },
     "output_type": "display_data"
    }
   ],
   "source": [
    "plt.figure(figsize=(10,8))\n",
    "for t_val,max_val,CFL_p in zip(t_grids,max_vals,CFL_parameters): \n",
    "    if len(t_val) == len(max_val):\n",
    "        plt.plot(t_val,max_val,linewidth=1.5,label='%.3f'%(CFL_p))\n",
    "    else:\n",
    "        t_val = list(t_val)\n",
    "        t_val.pop(-1)\n",
    "        plt.plot(t_val,max_val,linewidth=1.5,label='%.3f'%(CFL_p))\n",
    "plt.title('Max u vs time')\n",
    "plt.xlabel('Time')\n",
    "plt.ylabel('Mass')\n",
    "plt.legend()\n",
    "plt.show()"
   ]
  },
  {
   "cell_type": "markdown",
   "metadata": {},
   "source": [
    "#### b) Lax-Wendroff Scheme"
   ]
  },
  {
   "cell_type": "markdown",
   "metadata": {},
   "source": [
    "$$ u_j^{n+1} = u_j^{n} - \\frac{a \\Delta t}{2 h} \\big( u_{j+1}^{n} - u_{j-1}^n \\big) + \\frac{a^2 \\Delta t^2}{2 h^2} \\big(u_{j+1}^n - 2 u_j^n + u_{j-1}^n \\Big)$$"
   ]
  },
  {
   "cell_type": "code",
   "execution_count": 15,
   "metadata": {},
   "outputs": [],
   "source": [
    "# Create Class and run model\n",
    "obj2 = AdvectionSolvers.Lax_Wendroff_1D(L_max,T_max,a_val,init_condition1,N_size,M_size,'Solution_Lax_Wendroff')\n",
    "obj2.run()"
   ]
  },
  {
   "cell_type": "code",
   "execution_count": 16,
   "metadata": {},
   "outputs": [
    {
     "name": "stdout",
     "output_type": "stream",
     "text": [
      "(601, 201)\n"
     ]
    }
   ],
   "source": [
    "y2 = np.loadtxt(\"Solution_Lax_Wendroff.txt\").reshape(M_size+1,N_size+1)\n",
    "print(y2.shape)"
   ]
  },
  {
   "cell_type": "code",
   "execution_count": 17,
   "metadata": {},
   "outputs": [
    {
     "data": {
      "image/png": "[encoded data removed]",
      "text/plain": [
       "<Figure size 720x576 with 1 Axes>"
      ]
     },
     "metadata": {
      "needs_background": "light"
     },
     "output_type": "display_data"
    }
   ],
   "source": [
    "plt.figure(figsize=(10,8))\n",
    "ind = 340\n",
    "plt.plot(x,y2[ind],linewidth = 2, c = 'b',label = f'Time {time_grid[ind]}')\n",
    "plt.title(f'Lax Wendroff Scheme with CFL = {CFL_parameter}',fontsize = 15)\n",
    "plt.legend()\n",
    "plt.show()"
   ]
  },
  {
   "cell_type": "code",
   "execution_count": 18,
   "metadata": {},
   "outputs": [
    {
     "name": "stdout",
     "output_type": "stream",
     "text": [
      "dx:  0.005\n",
      "dt values:  [0.0025     0.00230769 0.00214286 0.002      0.001875   0.00176471\n",
      " 0.00166667 0.00157895 0.0015    ]\n",
      "CFL values:  [1.         0.92307692 0.85714286 0.8        0.75       0.70588235\n",
      " 0.66666667 0.63157895 0.6       ]\n"
     ]
    }
   ],
   "source": [
    "N_sizes = 200\n",
    "M_sizes = np.array([600,650,700,750,800,850,900,950,1000])\n",
    "\n",
    "dts = T_max/M_sizes\n",
    "dxs = L_max/N_sizes\n",
    "\n",
    "print('dx: ', dx)\n",
    "print('dt values: ',dts)\n",
    "\n",
    "CFL_parameters = dts*a_val/dxs\n",
    "print('CFL values: ',CFL_parameters)"
   ]
  },
  {
   "cell_type": "code",
   "execution_count": 19,
   "metadata": {},
   "outputs": [],
   "source": [
    "File_Lax = 'Lax_Solutions1D' # Binder name to store Euler Schemes Solutions\n",
    "make_dir(File_Lax)"
   ]
  },
  {
   "cell_type": "code",
   "execution_count": 20,
   "metadata": {},
   "outputs": [],
   "source": [
    "for idx,M_vals in enumerate(M_sizes):\n",
    "    obj_lax = AdvectionSolvers.Lax_Wendroff_1D(L_max,T_max,a_val,init_condition1,N_sizes,M_vals,os.path.join(File_Lax,'%.2f'%(CFL_parameters[idx])))\n",
    "    obj_lax.run()"
   ]
  },
  {
   "cell_type": "markdown",
   "metadata": {},
   "source": [
    "- Conservation of Total Mass:"
   ]
  },
  {
   "cell_type": "code",
   "execution_count": null,
   "metadata": {},
   "outputs": [],
   "source": [
    "masses = []\n",
    "max_vals = []\n",
    "for idx,CFL_value in enumerate(CFL_parameters):\n",
    "    name = '%.2f'%(CFL_value) + '.txt'\n",
    "\n",
    "    y_sol = np.loadtxt(os.path.join(File_Lax,name)).reshape(M_sizes[idx]+1,N_sizes+1)\n",
    "\n",
    "    areas = []\n",
    "    maxs = []\n",
    "    for row in y_sol:\n",
    "        \n",
    "        areas.append(np.trapz(y = row, dx = dxs))\n",
    "        maxs.append(max(row))\n",
    "        \n",
    "    masses.append(areas)\n",
    "    max_vals.append(maxs)"
   ]
  },
  {
   "cell_type": "code",
   "execution_count": null,
   "metadata": {},
   "outputs": [],
   "source": [
    "t_grids = [np.arange(0.0,T_max+dt_val,dt_val) for dt_val in dts]\n",
    "\n",
    "plt.figure(figsize=(10,8))\n",
    "for t_val,mass,CFL_p in zip(t_grids,masses,CFL_parameters):\n",
    "    if len(t_val) == len(mass):\n",
    "        plt.plot(t_val,mass,linewidth=1,label='%.3f'%(CFL_p))\n",
    "    else:\n",
    "        t_val = list(t_val)\n",
    "        t_val.pop(-1)\n",
    "        plt.plot(t_val,mass,linewidth=1,label='%.3f'%(CFL_p))\n",
    "plt.title('Mass vs time')\n",
    "plt.xlabel('Time')\n",
    "plt.ylabel('Mass')\n",
    "plt.legend()\n",
    "plt.show()"
   ]
  },
  {
   "cell_type": "markdown",
   "metadata": {},
   "source": [
    "- Maximum of u:"
   ]
  },
  {
   "cell_type": "code",
   "execution_count": null,
   "metadata": {},
   "outputs": [],
   "source": [
    "plt.figure(figsize=(10,8))\n",
    "for t_val,max_val,CFL_p in zip(t_grids,max_vals,CFL_parameters): \n",
    "    if len(t_val) == len(max_val):\n",
    "        plt.plot(t_val,max_val,linewidth=1.,label='%.3f'%(CFL_p))\n",
    "    else:\n",
    "        t_val = list(t_val)\n",
    "        t_val.pop(-1)\n",
    "        plt.plot(t_val,max_val,linewidth=1.,label='%.3f'%(CFL_p))\n",
    "plt.title('Max u vs time')\n",
    "plt.xlabel('Time')\n",
    "plt.ylabel('Mass')\n",
    "plt.legend()\n",
    "plt.show()"
   ]
  },
  {
   "cell_type": "markdown",
   "metadata": {},
   "source": [
    "#### b) Spectral Scheme"
   ]
  },
  {
   "cell_type": "markdown",
   "metadata": {},
   "source": [
    "$$ \\hat{u}_k^{n+1} = \\exp\\bigg[\\frac{-2\\pi i}{L}k a \\Delta t\\bigg] \\hat{u}_k^{n} , \\space \\space \\space \\space \\space k = -N/2,\\dots,N/2-1 $$\n",
    "\n",
    "Where $\\hat{u}_k = P^*_{kj}u_j$ is the $k$-th Fourier mode."
   ]
  },
  {
   "cell_type": "code",
   "execution_count": null,
   "metadata": {},
   "outputs": [],
   "source": [
    "obj3 = AdvectionSolvers.Spectral_Method_1D(L_max,T_max,a_val,init_condition1,N_size,M_size,'Solution_Spectral_Method')\n",
    "obj3.run()"
   ]
  },
  {
   "cell_type": "code",
   "execution_count": null,
   "metadata": {},
   "outputs": [],
   "source": [
    "y3 = np.loadtxt(\"Solution_Spectral_Method.txt\").reshape(M_size+1,N_size+1)\n",
    "y3.shape"
   ]
  },
  {
   "cell_type": "code",
   "execution_count": null,
   "metadata": {},
   "outputs": [],
   "source": [
    "plt.figure(figsize=(10,8))\n",
    "ind = 340\n",
    "plt.plot(x,y3[ind],linewidth = 2, c = 'b',label = f'Time {time_grid[ind]}')\n",
    "plt.title(f'Spectral Scheme',fontsize = 15)\n",
    "plt.legend()\n",
    "plt.show()"
   ]
  },
  {
   "cell_type": "markdown",
   "metadata": {},
   "source": [
    "#### Evaluate the $L^2$ norm of the three algorithms across time"
   ]
  },
  {
   "cell_type": "markdown",
   "metadata": {},
   "source": [
    "#### Analytical solution to the model:"
   ]
  },
  {
   "cell_type": "markdown",
   "metadata": {},
   "source": [
    "$$ u(x,t)=\\frac{1}{(2\\pi\\sigma^2)^{1/2}}\\exp\\bigg(-\\frac{(x-at-L/2)^2}{2\\sigma^2}\\bigg)$$"
   ]
  },
  {
   "cell_type": "code",
   "execution_count": null,
   "metadata": {},
   "outputs": [],
   "source": [
    "def analytical_solution(x,t,sigma,L,a):\n",
    "    return 1.0/(2.0*np.pi*(sigma**2))**(1/2) * np.exp(-((( x - a*t )%L - L/2)**2)/(2*sigma**2))"
   ]
  },
  {
   "cell_type": "code",
   "execution_count": null,
   "metadata": {},
   "outputs": [],
   "source": [
    "Analytical_Solutions = np.array([analytical_solution(x,t1,sig,L_max,a_val) for t1 in time_grid])\n",
    "Analytical_Solutions.shape"
   ]
  },
  {
   "cell_type": "code",
   "execution_count": null,
   "metadata": {},
   "outputs": [],
   "source": [
    "def error_func(y1,y2):\n",
    "    '''Calculate the difference between to arrays'''\n",
    "    y1 = np.array(y1)\n",
    "    y2 = np.array(y2)\n",
    "    if np.array(y1).shape == np.array(y2).shape:\n",
    "        diff = y1-y2\n",
    "        return diff\n",
    "    else:\n",
    "        print('Arrays must have the same dimension')"
   ]
  },
  {
   "cell_type": "code",
   "execution_count": null,
   "metadata": {},
   "outputs": [],
   "source": [
    "def calculate_norm(vector,norm_number):\n",
    "    '''vector: Array or vector to which you want to determine the norm: 1,2 or inf\n",
    "       norm_number: Norm order'''\n",
    "    if type(norm_number) == str:\n",
    "        return np.linalg.norm(vector,ord = float(norm_number))\n",
    "    else:\n",
    "        return np.linalg.norm(vector , ord = norm_number)"
   ]
  },
  {
   "cell_type": "code",
   "execution_count": null,
   "metadata": {},
   "outputs": [],
   "source": [
    "norms_schemes = {'Spectral Scheme':[],'Lax-Wendroff Scheme':[],'Euler Upwind Scheme':[]}\n",
    "for anal_sol,spec_sol,euler_sol,lax_sol in zip(Analytical_Solutions,y3,y1,y2):\n",
    "    error_spec = error_func(anal_sol,spec_sol)\n",
    "    error_euler = error_func(anal_sol,euler_sol)\n",
    "    error_lax = error_func(anal_sol,lax_sol)\n",
    "    \n",
    "    norms_schemes['Spectral Scheme'].append(calculate_norm(error_spec,2))\n",
    "    norms_schemes['Euler Upwind Scheme'].append(calculate_norm(error_euler,2))\n",
    "    norms_schemes['Lax-Wendroff Scheme'].append(calculate_norm(error_lax,2))"
   ]
  },
  {
   "cell_type": "code",
   "execution_count": null,
   "metadata": {},
   "outputs": [],
   "source": [
    "plt.figure(figsize=(10,8))\n",
    "\n",
    "for nor in norms_schemes:\n",
    "    plt.plot(time_grid , norms_schemes[nor] , linewidth=1 , label = nor)\n",
    "\n",
    "plt.xlabel('Time',fontsize=15)\n",
    "plt.ylabel('$L^2$ Norm',fontsize=15)\n",
    "plt.title(f'$L^2$ Norms for CFL = {CFL_parameter}',fontsize = 15)\n",
    "plt.xticks(fontsize=14)\n",
    "plt.yticks(fontsize=14)\n",
    "plt.legend(fontsize=12)\n",
    "plt.show()"
   ]
  },
  {
   "cell_type": "code",
   "execution_count": null,
   "metadata": {},
   "outputs": [],
   "source": [
    "M_size2 = 690\n",
    "\n",
    "dt2 = T_max/M_size2\n",
    "\n",
    "CFL_parameter2 = dt2*a_val/dx\n",
    "print('Courant–Friedrichs–Lewy parameter: ',CFL_parameter2)"
   ]
  },
  {
   "cell_type": "code",
   "execution_count": null,
   "metadata": {},
   "outputs": [],
   "source": [
    "obj_Euler1 = AdvectionSolvers.Euler_Upwind_1D(L_max , T_max , a_val,init_condition1,N_size,M_size2,\"Solution_Euler\")\n",
    "obj_Euler1.run()\n",
    "y_Euler1 = np.loadtxt(\"Solution_Euler.txt\").reshape(M_size2+1,N_size+1)\n",
    "y_Euler1.shape"
   ]
  },
  {
   "cell_type": "code",
   "execution_count": null,
   "metadata": {},
   "outputs": [],
   "source": [
    "obj_Lax1 = AdvectionSolvers.Lax_Wendroff_1D(L_max , T_max , a_val , init_condition1,N_size,M_size2,\"Solution_Lax_Wendroff\")\n",
    "obj_Lax1.run()\n",
    "y_Lax1 = np.loadtxt(\"Solution_Lax_Wendroff.txt\").reshape(M_size2+1,N_size+1)\n",
    "y_Lax1.shape"
   ]
  },
  {
   "cell_type": "code",
   "execution_count": null,
   "metadata": {},
   "outputs": [],
   "source": [
    "obj_Spectral1 = AdvectionSolvers.Spectral_Method_1D(L_max , T_max , a_val , init_condition1 , N_size \n",
    "                                                    , M_size2 , \"Solution_Spectral_Method\")\n",
    "obj_Spectral1.run()\n",
    "y_Spectral1 = np.loadtxt(\"Solution_Spectral_Method.txt\").reshape(M_size2+1,N_size+1)\n",
    "y_Spectral1.shape"
   ]
  },
  {
   "cell_type": "code",
   "execution_count": null,
   "metadata": {},
   "outputs": [],
   "source": [
    "times1 = obj_Euler1.grid_points(0.0,T_max,dt2)\n",
    "Analytical_Solutions1 = np.array([analytical_solution( x , t1 , sig , L_max , a_val) for t1 in times1])\n",
    "Analytical_Solutions1.shape"
   ]
  },
  {
   "cell_type": "code",
   "execution_count": null,
   "metadata": {},
   "outputs": [],
   "source": [
    "plt.figure(figsize=(10,8))\n",
    "plt.plot(x,Analytical_Solutions1[500],label='Anal')\n",
    "plt.plot(x,y_Spectral1[500],label='Spec')\n",
    "plt.plot(x,y_Euler1[500],label='Euler')\n",
    "plt.plot(x,y_Lax1[500],label = 'Lax')\n",
    "plt.legend()\n",
    "plt.show()"
   ]
  },
  {
   "cell_type": "code",
   "execution_count": null,
   "metadata": {},
   "outputs": [],
   "source": [
    "norms_schemes1 = {'Spectral Scheme':[],'Lax-Wendroff Scheme':[],'Euler Upwind Scheme':[]}\n",
    "for anal_sol,spec_sol,euler_sol,lax_sol in zip(Analytical_Solutions1 , y_Spectral1 , y_Euler1 , y_Lax1):\n",
    "    error_spec = error_func(anal_sol,spec_sol)\n",
    "    error_euler = error_func(anal_sol,euler_sol)\n",
    "    error_lax = error_func(anal_sol,lax_sol)\n",
    "    \n",
    "    norms_schemes1['Spectral Scheme'].append(calculate_norm(error_spec,2))\n",
    "    norms_schemes1['Euler Upwind Scheme'].append(calculate_norm(error_euler,2))\n",
    "    norms_schemes1['Lax-Wendroff Scheme'].append(calculate_norm(error_lax,2))"
   ]
  },
  {
   "cell_type": "code",
   "execution_count": null,
   "metadata": {},
   "outputs": [],
   "source": [
    "plt.figure(figsize=(10,8))\n",
    "\n",
    "for nor in norms_schemes1:\n",
    "    plt.plot(times1,norms_schemes1[nor] , linewidth=1 , label = nor)\n",
    "\n",
    "plt.xlabel('Time',fontsize=15)\n",
    "plt.ylabel('$L^2$ Norm',fontsize=15)\n",
    "plt.title(f'$L^2$ Norms for CFL = {CFL_parameter2}',fontsize = 15)\n",
    "plt.xticks(fontsize=14)\n",
    "plt.yticks(fontsize=14)\n",
    "plt.legend(fontsize=12)\n",
    "plt.show()"
   ]
  },
  {
   "cell_type": "code",
   "execution_count": null,
   "metadata": {},
   "outputs": [],
   "source": []
  }
 ],
 "metadata": {
  "kernelspec": {
   "display_name": "Python 3",
   "language": "python",
   "name": "python3"
  },
  "language_info": {
   "codemirror_mode": {
    "name": "ipython",
    "version": 3
   },
   "file_extension": ".py",
   "mimetype": "text/x-python",
   "name": "python",
   "nbconvert_exporter": "python",
   "pygments_lexer": "ipython3",
   "version": "3.7.4"
  }
 },
 "nbformat": 4,
 "nbformat_minor": 2
}
